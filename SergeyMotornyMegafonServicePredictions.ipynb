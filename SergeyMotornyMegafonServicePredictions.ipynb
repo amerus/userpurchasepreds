{
 "cells": [
  {
   "cell_type": "code",
   "execution_count": 1,
   "metadata": {},
   "outputs": [],
   "source": [
    "import warnings\n",
    "warnings.filterwarnings('ignore')\n",
    "import pandas as pd\n",
    "import numpy as np\n",
    "from sklearn.model_selection import train_test_split\n",
    "from sklearn.metrics import f1_score\n",
    "import matplotlib.pyplot as plt\n",
    "%matplotlib inline"
   ]
  },
  {
   "cell_type": "code",
   "execution_count": 2,
   "metadata": {},
   "outputs": [],
   "source": [
    "train_df = pd.read_csv(\"data_train.csv\",index_col=0)\n",
    "test_df = pd.read_csv(\"data_test.csv\", index_col=0)"
   ]
  },
  {
   "cell_type": "code",
   "execution_count": 3,
   "metadata": {},
   "outputs": [
    {
     "data": {
      "text/html": [
       "<div>\n",
       "<style scoped>\n",
       "    .dataframe tbody tr th:only-of-type {\n",
       "        vertical-align: middle;\n",
       "    }\n",
       "\n",
       "    .dataframe tbody tr th {\n",
       "        vertical-align: top;\n",
       "    }\n",
       "\n",
       "    .dataframe thead th {\n",
       "        text-align: right;\n",
       "    }\n",
       "</style>\n",
       "<table border=\"1\" class=\"dataframe\">\n",
       "  <thead>\n",
       "    <tr style=\"text-align: right;\">\n",
       "      <th></th>\n",
       "      <th>id</th>\n",
       "      <th>vas_id</th>\n",
       "      <th>buy_time</th>\n",
       "    </tr>\n",
       "  </thead>\n",
       "  <tbody>\n",
       "    <tr>\n",
       "      <th>0</th>\n",
       "      <td>3130519</td>\n",
       "      <td>2.0</td>\n",
       "      <td>1548018000</td>\n",
       "    </tr>\n",
       "    <tr>\n",
       "      <th>1</th>\n",
       "      <td>2000860</td>\n",
       "      <td>4.0</td>\n",
       "      <td>1548018000</td>\n",
       "    </tr>\n",
       "    <tr>\n",
       "      <th>2</th>\n",
       "      <td>1099444</td>\n",
       "      <td>2.0</td>\n",
       "      <td>1546808400</td>\n",
       "    </tr>\n",
       "    <tr>\n",
       "      <th>3</th>\n",
       "      <td>1343255</td>\n",
       "      <td>5.0</td>\n",
       "      <td>1547413200</td>\n",
       "    </tr>\n",
       "    <tr>\n",
       "      <th>4</th>\n",
       "      <td>1277040</td>\n",
       "      <td>2.0</td>\n",
       "      <td>1546808400</td>\n",
       "    </tr>\n",
       "  </tbody>\n",
       "</table>\n",
       "</div>"
      ],
      "text/plain": [
       "        id  vas_id    buy_time\n",
       "0  3130519     2.0  1548018000\n",
       "1  2000860     4.0  1548018000\n",
       "2  1099444     2.0  1546808400\n",
       "3  1343255     5.0  1547413200\n",
       "4  1277040     2.0  1546808400"
      ]
     },
     "execution_count": 3,
     "metadata": {},
     "output_type": "execute_result"
    }
   ],
   "source": [
    "test_df.head()"
   ]
  },
  {
   "cell_type": "code",
   "execution_count": 4,
   "metadata": {},
   "outputs": [
    {
     "data": {
      "text/html": [
       "<div>\n",
       "<style scoped>\n",
       "    .dataframe tbody tr th:only-of-type {\n",
       "        vertical-align: middle;\n",
       "    }\n",
       "\n",
       "    .dataframe tbody tr th {\n",
       "        vertical-align: top;\n",
       "    }\n",
       "\n",
       "    .dataframe thead th {\n",
       "        text-align: right;\n",
       "    }\n",
       "</style>\n",
       "<table border=\"1\" class=\"dataframe\">\n",
       "  <thead>\n",
       "    <tr style=\"text-align: right;\">\n",
       "      <th></th>\n",
       "      <th>id</th>\n",
       "      <th>vas_id</th>\n",
       "      <th>buy_time</th>\n",
       "      <th>target</th>\n",
       "    </tr>\n",
       "  </thead>\n",
       "  <tbody>\n",
       "    <tr>\n",
       "      <th>0</th>\n",
       "      <td>540968</td>\n",
       "      <td>8.0</td>\n",
       "      <td>1537131600</td>\n",
       "      <td>0.0</td>\n",
       "    </tr>\n",
       "    <tr>\n",
       "      <th>1</th>\n",
       "      <td>1454121</td>\n",
       "      <td>4.0</td>\n",
       "      <td>1531688400</td>\n",
       "      <td>0.0</td>\n",
       "    </tr>\n",
       "    <tr>\n",
       "      <th>2</th>\n",
       "      <td>2458816</td>\n",
       "      <td>1.0</td>\n",
       "      <td>1534107600</td>\n",
       "      <td>0.0</td>\n",
       "    </tr>\n",
       "    <tr>\n",
       "      <th>3</th>\n",
       "      <td>3535012</td>\n",
       "      <td>5.0</td>\n",
       "      <td>1535922000</td>\n",
       "      <td>0.0</td>\n",
       "    </tr>\n",
       "    <tr>\n",
       "      <th>4</th>\n",
       "      <td>1693214</td>\n",
       "      <td>1.0</td>\n",
       "      <td>1535922000</td>\n",
       "      <td>0.0</td>\n",
       "    </tr>\n",
       "  </tbody>\n",
       "</table>\n",
       "</div>"
      ],
      "text/plain": [
       "        id  vas_id    buy_time  target\n",
       "0   540968     8.0  1537131600     0.0\n",
       "1  1454121     4.0  1531688400     0.0\n",
       "2  2458816     1.0  1534107600     0.0\n",
       "3  3535012     5.0  1535922000     0.0\n",
       "4  1693214     1.0  1535922000     0.0"
      ]
     },
     "execution_count": 4,
     "metadata": {},
     "output_type": "execute_result"
    }
   ],
   "source": [
    "train_df.head()"
   ]
  },
  {
   "cell_type": "code",
   "execution_count": 5,
   "metadata": {},
   "outputs": [
    {
     "data": {
      "text/plain": [
       "(831653, 4)"
      ]
     },
     "execution_count": 5,
     "metadata": {},
     "output_type": "execute_result"
    }
   ],
   "source": [
    "train_df.shape"
   ]
  },
  {
   "cell_type": "code",
   "execution_count": 6,
   "metadata": {},
   "outputs": [],
   "source": [
    "columns = np.arange(3,256)"
   ]
  },
  {
   "cell_type": "code",
   "execution_count": 7,
   "metadata": {},
   "outputs": [],
   "source": [
    "small_dtype = {}"
   ]
  },
  {
   "cell_type": "code",
   "execution_count": 8,
   "metadata": {},
   "outputs": [],
   "source": [
    "for item in columns:\n",
    "    small_dtype[item] = np.float32"
   ]
  },
  {
   "cell_type": "code",
   "execution_count": 9,
   "metadata": {},
   "outputs": [
    {
     "data": {
      "text/html": [
       "<div>\n",
       "<style scoped>\n",
       "    .dataframe tbody tr th:only-of-type {\n",
       "        vertical-align: middle;\n",
       "    }\n",
       "\n",
       "    .dataframe tbody tr th {\n",
       "        vertical-align: top;\n",
       "    }\n",
       "\n",
       "    .dataframe thead th {\n",
       "        text-align: right;\n",
       "    }\n",
       "</style>\n",
       "<table border=\"1\" class=\"dataframe\">\n",
       "  <thead>\n",
       "    <tr style=\"text-align: right;\">\n",
       "      <th></th>\n",
       "      <th>id</th>\n",
       "      <th>buy_time</th>\n",
       "      <th>0</th>\n",
       "      <th>1</th>\n",
       "      <th>2</th>\n",
       "      <th>3</th>\n",
       "      <th>4</th>\n",
       "      <th>5</th>\n",
       "      <th>6</th>\n",
       "      <th>7</th>\n",
       "      <th>...</th>\n",
       "      <th>243</th>\n",
       "      <th>244</th>\n",
       "      <th>245</th>\n",
       "      <th>246</th>\n",
       "      <th>247</th>\n",
       "      <th>248</th>\n",
       "      <th>249</th>\n",
       "      <th>250</th>\n",
       "      <th>251</th>\n",
       "      <th>252</th>\n",
       "    </tr>\n",
       "  </thead>\n",
       "  <tbody>\n",
       "    <tr>\n",
       "      <th>0</th>\n",
       "      <td>2013026</td>\n",
       "      <td>1531688400</td>\n",
       "      <td>18.910028</td>\n",
       "      <td>46.980888</td>\n",
       "      <td>4.969214</td>\n",
       "      <td>-1.386798</td>\n",
       "      <td>3.791754</td>\n",
       "      <td>-14.011789</td>\n",
       "      <td>-16.08618</td>\n",
       "      <td>-65.076096</td>\n",
       "      <td>...</td>\n",
       "      <td>-977.373840</td>\n",
       "      <td>-613.770813</td>\n",
       "      <td>-25.996269</td>\n",
       "      <td>-37.630447</td>\n",
       "      <td>-301.747711</td>\n",
       "      <td>-25.832888</td>\n",
       "      <td>-0.694429</td>\n",
       "      <td>-12.175933</td>\n",
       "      <td>-0.456140</td>\n",
       "      <td>0.0</td>\n",
       "    </tr>\n",
       "    <tr>\n",
       "      <th>1</th>\n",
       "      <td>2014722</td>\n",
       "      <td>1539550800</td>\n",
       "      <td>36.690029</td>\n",
       "      <td>152.400894</td>\n",
       "      <td>448.069214</td>\n",
       "      <td>563.833191</td>\n",
       "      <td>463.841766</td>\n",
       "      <td>568.998230</td>\n",
       "      <td>-16.08618</td>\n",
       "      <td>-53.216099</td>\n",
       "      <td>...</td>\n",
       "      <td>-891.373840</td>\n",
       "      <td>-544.770813</td>\n",
       "      <td>-20.996269</td>\n",
       "      <td>48.369553</td>\n",
       "      <td>80.252274</td>\n",
       "      <td>-13.832889</td>\n",
       "      <td>-0.694429</td>\n",
       "      <td>-1.175933</td>\n",
       "      <td>-0.456140</td>\n",
       "      <td>0.0</td>\n",
       "    </tr>\n",
       "    <tr>\n",
       "      <th>2</th>\n",
       "      <td>2015199</td>\n",
       "      <td>1545598800</td>\n",
       "      <td>-67.019974</td>\n",
       "      <td>157.050888</td>\n",
       "      <td>-63.180786</td>\n",
       "      <td>178.103195</td>\n",
       "      <td>-68.598244</td>\n",
       "      <td>156.998215</td>\n",
       "      <td>3.51382</td>\n",
       "      <td>25.183903</td>\n",
       "      <td>...</td>\n",
       "      <td>-977.373840</td>\n",
       "      <td>-613.770813</td>\n",
       "      <td>-12.996268</td>\n",
       "      <td>-37.630447</td>\n",
       "      <td>10829.251953</td>\n",
       "      <td>-25.832888</td>\n",
       "      <td>-0.694429</td>\n",
       "      <td>-12.175933</td>\n",
       "      <td>-0.456140</td>\n",
       "      <td>0.0</td>\n",
       "    </tr>\n",
       "    <tr>\n",
       "      <th>3</th>\n",
       "      <td>2021765</td>\n",
       "      <td>1534107600</td>\n",
       "      <td>7.010029</td>\n",
       "      <td>150.200882</td>\n",
       "      <td>-6.930786</td>\n",
       "      <td>216.213196</td>\n",
       "      <td>76.621758</td>\n",
       "      <td>351.848206</td>\n",
       "      <td>-16.08618</td>\n",
       "      <td>-65.076096</td>\n",
       "      <td>...</td>\n",
       "      <td>-973.373840</td>\n",
       "      <td>-613.770813</td>\n",
       "      <td>-23.996269</td>\n",
       "      <td>-37.630447</td>\n",
       "      <td>-205.747726</td>\n",
       "      <td>-24.832888</td>\n",
       "      <td>-0.694429</td>\n",
       "      <td>-11.175933</td>\n",
       "      <td>-0.456140</td>\n",
       "      <td>1.0</td>\n",
       "    </tr>\n",
       "    <tr>\n",
       "      <th>4</th>\n",
       "      <td>2027465</td>\n",
       "      <td>1533502800</td>\n",
       "      <td>-90.439972</td>\n",
       "      <td>134.220886</td>\n",
       "      <td>-104.380783</td>\n",
       "      <td>153.643204</td>\n",
       "      <td>-109.798248</td>\n",
       "      <td>132.538208</td>\n",
       "      <td>-16.08618</td>\n",
       "      <td>-65.076096</td>\n",
       "      <td>...</td>\n",
       "      <td>1643.626099</td>\n",
       "      <td>2007.229248</td>\n",
       "      <td>206.003738</td>\n",
       "      <td>-21.630449</td>\n",
       "      <td>6667.252441</td>\n",
       "      <td>92.167114</td>\n",
       "      <td>-0.694429</td>\n",
       "      <td>49.824066</td>\n",
       "      <td>47.543861</td>\n",
       "      <td>0.0</td>\n",
       "    </tr>\n",
       "  </tbody>\n",
       "</table>\n",
       "<p>5 rows × 255 columns</p>\n",
       "</div>"
      ],
      "text/plain": [
       "        id    buy_time          0           1           2           3  \\\n",
       "0  2013026  1531688400  18.910028   46.980888    4.969214   -1.386798   \n",
       "1  2014722  1539550800  36.690029  152.400894  448.069214  563.833191   \n",
       "2  2015199  1545598800 -67.019974  157.050888  -63.180786  178.103195   \n",
       "3  2021765  1534107600   7.010029  150.200882   -6.930786  216.213196   \n",
       "4  2027465  1533502800 -90.439972  134.220886 -104.380783  153.643204   \n",
       "\n",
       "            4           5         6          7  ...          243          244  \\\n",
       "0    3.791754  -14.011789 -16.08618 -65.076096  ...  -977.373840  -613.770813   \n",
       "1  463.841766  568.998230 -16.08618 -53.216099  ...  -891.373840  -544.770813   \n",
       "2  -68.598244  156.998215   3.51382  25.183903  ...  -977.373840  -613.770813   \n",
       "3   76.621758  351.848206 -16.08618 -65.076096  ...  -973.373840  -613.770813   \n",
       "4 -109.798248  132.538208 -16.08618 -65.076096  ...  1643.626099  2007.229248   \n",
       "\n",
       "          245        246           247        248       249        250  \\\n",
       "0  -25.996269 -37.630447   -301.747711 -25.832888 -0.694429 -12.175933   \n",
       "1  -20.996269  48.369553     80.252274 -13.832889 -0.694429  -1.175933   \n",
       "2  -12.996268 -37.630447  10829.251953 -25.832888 -0.694429 -12.175933   \n",
       "3  -23.996269 -37.630447   -205.747726 -24.832888 -0.694429 -11.175933   \n",
       "4  206.003738 -21.630449   6667.252441  92.167114 -0.694429  49.824066   \n",
       "\n",
       "         251  252  \n",
       "0  -0.456140  0.0  \n",
       "1  -0.456140  0.0  \n",
       "2  -0.456140  0.0  \n",
       "3  -0.456140  1.0  \n",
       "4  47.543861  0.0  \n",
       "\n",
       "[5 rows x 255 columns]"
      ]
     },
     "execution_count": 9,
     "metadata": {},
     "output_type": "execute_result"
    }
   ],
   "source": [
    "features_df = pd.read_csv(\"features.csv\",sep=\"\\t\", index_col=0, dtype=small_dtype, nrows=1000000)\n",
    "features_df.head()"
   ]
  },
  {
   "cell_type": "code",
   "execution_count": 10,
   "metadata": {},
   "outputs": [
    {
     "data": {
      "text/plain": [
       "0.0      746300\n",
       "1.0      253662\n",
       "5.0           3\n",
       "2.0           3\n",
       "13.0          3\n",
       "10.0          2\n",
       "68.0          2\n",
       "82.0          1\n",
       "94.0          1\n",
       "101.0         1\n",
       "137.0         1\n",
       "9.0           1\n",
       "146.0         1\n",
       "39.0          1\n",
       "25.0          1\n",
       "41.0          1\n",
       "60.0          1\n",
       "12.0          1\n",
       "195.0         1\n",
       "209.0         1\n",
       "342.0         1\n",
       "15.0          1\n",
       "23.0          1\n",
       "36.0          1\n",
       "282.0         1\n",
       "283.0         1\n",
       "18.0          1\n",
       "4.0           1\n",
       "19.0          1\n",
       "314.0         1\n",
       "79.0          1\n",
       "7.0           1\n",
       "Name: 252, dtype: int64"
      ]
     },
     "execution_count": 10,
     "metadata": {},
     "output_type": "execute_result"
    }
   ],
   "source": [
    "features_df[\"252\"].value_counts()"
   ]
  },
  {
   "cell_type": "code",
   "execution_count": 11,
   "metadata": {},
   "outputs": [],
   "source": [
    "features_df = features_df.loc[features_df[\"252\"].isin([0,1]),:]"
   ]
  },
  {
   "cell_type": "code",
   "execution_count": 12,
   "metadata": {},
   "outputs": [],
   "source": [
    "features_df[\"id\"] = features_df[\"id\"].astype(\"int8\")\n",
    "features_df[\"buy_time\"] = features_df[\"buy_time\"].astype(\"int8\")"
   ]
  },
  {
   "cell_type": "code",
   "execution_count": 13,
   "metadata": {},
   "outputs": [
    {
     "data": {
      "text/plain": [
       "Index       7999696\n",
       "id           999962\n",
       "buy_time     999962\n",
       "0           3999848\n",
       "1           3999848\n",
       "             ...   \n",
       "248         3999848\n",
       "249         3999848\n",
       "250         3999848\n",
       "251         3999848\n",
       "252         3999848\n",
       "Length: 256, dtype: int64"
      ]
     },
     "execution_count": 13,
     "metadata": {},
     "output_type": "execute_result"
    }
   ],
   "source": [
    "features_df.memory_usage(deep=True)"
   ]
  },
  {
   "cell_type": "code",
   "execution_count": 14,
   "metadata": {},
   "outputs": [],
   "source": [
    "X = features_df.drop(\"252\", axis=1)\n",
    "y = features_df[\"252\"]"
   ]
  },
  {
   "cell_type": "code",
   "execution_count": 15,
   "metadata": {
    "scrolled": true
   },
   "outputs": [
    {
     "name": "stdout",
     "output_type": "stream",
     "text": [
      "ID уникален? True\n",
      "Сколько дубликатов? 221\n",
      "Каков процент пропусков? 0.0 \n"
     ]
    }
   ],
   "source": [
    "print(\"ID уникален? {}\".format(X.index.is_unique))\n",
    "print(\"Сколько дубликатов? {}\".format(X.duplicated().sum()))\n",
    "print(\"Каков процент пропусков? {} \".format((X.isnull().sum() > 0).sum()/X.shape[1]*100))"
   ]
  },
  {
   "cell_type": "code",
   "execution_count": 16,
   "metadata": {},
   "outputs": [
    {
     "data": {
      "image/png": "[encoded data removed]",
      "text/plain": [
       "<Figure size 432x288 with 1 Axes>"
      ]
     },
     "metadata": {
      "needs_background": "light"
     },
     "output_type": "display_data"
    }
   ],
   "source": [
    "import seaborn as sns\n",
    "ax = sns.countplot(y)\n",
    "ax.set_xlabel(\"Целевая переменная\")\n",
    "ax.set_ylabel(\"Количество\")\n",
    "ax.set_title(\"Распределение целевой переменной\");"
   ]
  },
  {
   "cell_type": "code",
   "execution_count": 17,
   "metadata": {},
   "outputs": [
    {
     "name": "stdout",
     "output_type": "stream",
     "text": [
      "Train\n",
      "0.0    0.745789\n",
      "1.0    0.254211\n",
      "Name: 252, dtype: float64\n",
      "\n",
      "Test\n",
      "0.0    0.747331\n",
      "1.0    0.252669\n",
      "Name: 252, dtype: float64\n"
     ]
    }
   ],
   "source": [
    "from sklearn.model_selection import train_test_split\n",
    "\n",
    "RANDOM_STATE = 42\n",
    "\n",
    "train_idx, test_idx = train_test_split(X.index, test_size=0.35, random_state=RANDOM_STATE)\n",
    "\n",
    "y_train, y_test = y.loc[train_idx], y.loc[test_idx]\n",
    "X_train, X_test = X.loc[train_idx], X.loc[test_idx]\n",
    "\n",
    "print(\"Train\")\n",
    "print(y.loc[train_idx].value_counts()/train_idx.shape[0])\n",
    "print()\n",
    "print(\"Test\")\n",
    "print(y.loc[test_idx].value_counts()/test_idx.shape[0])"
   ]
  },
  {
   "cell_type": "code",
   "execution_count": 18,
   "metadata": {},
   "outputs": [],
   "source": [
    "from sklearn.linear_model import LogisticRegression\n",
    "from sklearn.pipeline import Pipeline\n",
    "from sklearn.metrics import f1_score\n",
    "from sklearn.model_selection import cross_validate"
   ]
  },
  {
   "cell_type": "code",
   "execution_count": 19,
   "metadata": {},
   "outputs": [],
   "source": [
    "log_reg_step = (\"logistic_regression\", LogisticRegression(random_state=RANDOM_STATE, n_jobs=-1))"
   ]
  },
  {
   "cell_type": "code",
   "execution_count": 20,
   "metadata": {},
   "outputs": [],
   "source": [
    "base_estimator = Pipeline([log_reg_step])"
   ]
  },
  {
   "cell_type": "code",
   "execution_count": 21,
   "metadata": {},
   "outputs": [],
   "source": [
    "def run_cv(estimator, X, y, scoring='f1', model_name=\"\"):\n",
    "    cv_res = cross_validate(estimator, X, y, scoring=scoring, n_jobs=-1)\n",
    "    print(\"{} {}={:.2f}(+/-{:.4f})\".format(model_name, scoring, cv_res['test_score'].mean(), cv_res['test_score'].std() *2))"
   ]
  },
  {
   "cell_type": "code",
   "execution_count": 22,
   "metadata": {
    "scrolled": true
   },
   "outputs": [
    {
     "name": "stdout",
     "output_type": "stream",
     "text": [
      "Baseline f1=0.42(+/-0.0034)\n"
     ]
    }
   ],
   "source": [
    "run_cv(base_estimator, X_train, y_train, model_name=\"Baseline\")"
   ]
  },
  {
   "cell_type": "code",
   "execution_count": 23,
   "metadata": {},
   "outputs": [
    {
     "data": {
      "text/plain": [
       "Pipeline(steps=[('logistic_regression',\n",
       "                 LogisticRegression(n_jobs=-1, random_state=42))])"
      ]
     },
     "execution_count": 23,
     "metadata": {},
     "output_type": "execute_result"
    }
   ],
   "source": [
    "base_estimator.fit(X_train, y_train)"
   ]
  },
  {
   "cell_type": "code",
   "execution_count": 24,
   "metadata": {},
   "outputs": [],
   "source": [
    "base_preds = base_estimator.predict_proba(X_test)[:,1]"
   ]
  },
  {
   "cell_type": "code",
   "execution_count": 25,
   "metadata": {},
   "outputs": [],
   "source": [
    "from sklearn.metrics import classification_report"
   ]
  },
  {
   "cell_type": "code",
   "execution_count": 26,
   "metadata": {},
   "outputs": [
    {
     "name": "stdout",
     "output_type": "stream",
     "text": [
      "              precision    recall  f1-score   support\n",
      "\n",
      "         0.0       0.81      0.70      0.75    261556\n",
      "         1.0       0.36      0.50      0.42     88431\n",
      "\n",
      "    accuracy                           0.65    349987\n",
      "   macro avg       0.58      0.60      0.59    349987\n",
      "weighted avg       0.69      0.65      0.67    349987\n",
      "\n"
     ]
    }
   ],
   "source": [
    "print(classification_report(y_test, base_preds > 0.5))"
   ]
  },
  {
   "cell_type": "code",
   "execution_count": 54,
   "metadata": {},
   "outputs": [
    {
     "data": {
      "text/plain": [
       "<matplotlib.axes._subplots.AxesSubplot at 0x7fbd47698b70>"
      ]
     },
     "execution_count": 54,
     "metadata": {},
     "output_type": "execute_result"
    },
    {
     "data": {
      "image/png": "[encoded data removed]",
      "text/plain": [
       "<Figure size 432x288 with 1 Axes>"
      ]
     },
     "metadata": {
      "needs_background": "light"
     },
     "output_type": "display_data"
    }
   ],
   "source": [
    "sns.distplot(features_df[\"21\"])"
   ]
  },
  {
   "cell_type": "code",
   "execution_count": null,
   "metadata": {},
   "outputs": [],
   "source": []
  },
  {
   "cell_type": "code",
   "execution_count": null,
   "metadata": {},
   "outputs": [],
   "source": []
  }
 ],
 "metadata": {
  "kernelspec": {
   "display_name": "Python 3",
   "language": "python",
   "name": "python3"
  },
  "language_info": {
   "codemirror_mode": {
    "name": "ipython",
    "version": 3
   },
   "file_extension": ".py",
   "mimetype": "text/x-python",
   "name": "python",
   "nbconvert_exporter": "python",
   "pygments_lexer": "ipython3",
   "version": "3.6.8"
  }
 },
 "nbformat": 4,
 "nbformat_minor": 2
}
