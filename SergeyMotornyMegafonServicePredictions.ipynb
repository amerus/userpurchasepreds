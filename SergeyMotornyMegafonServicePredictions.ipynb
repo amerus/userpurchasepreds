{
 "cells": [
  {
   "cell_type": "code",
   "execution_count": 1,
   "metadata": {},
   "outputs": [],
   "source": [
    "import warnings\n",
    "warnings.filterwarnings('ignore')\n",
    "import pandas as pd\n",
    "import numpy as np\n",
    "from sklearn.model_selection import train_test_split\n",
    "from sklearn.metrics import f1_score\n",
    "import matplotlib.pyplot as plt\n",
    "from sklearn.preprocessing import StandardScaler\n",
    "%matplotlib inline"
   ]
  },
  {
   "cell_type": "code",
   "execution_count": 2,
   "metadata": {},
   "outputs": [],
   "source": [
    "train_df = pd.read_csv(\"data_train.csv\",index_col=0)\n",
    "test_df = pd.read_csv(\"data_test.csv\", index_col=0)"
   ]
  },
  {
   "cell_type": "code",
   "execution_count": 3,
   "metadata": {},
   "outputs": [
    {
     "data": {
      "text/html": [
       "<div>\n",
       "<style scoped>\n",
       "    .dataframe tbody tr th:only-of-type {\n",
       "        vertical-align: middle;\n",
       "    }\n",
       "\n",
       "    .dataframe tbody tr th {\n",
       "        vertical-align: top;\n",
       "    }\n",
       "\n",
       "    .dataframe thead th {\n",
       "        text-align: right;\n",
       "    }\n",
       "</style>\n",
       "<table border=\"1\" class=\"dataframe\">\n",
       "  <thead>\n",
       "    <tr style=\"text-align: right;\">\n",
       "      <th></th>\n",
       "      <th>id</th>\n",
       "      <th>vas_id</th>\n",
       "      <th>buy_time</th>\n",
       "    </tr>\n",
       "  </thead>\n",
       "  <tbody>\n",
       "    <tr>\n",
       "      <th>0</th>\n",
       "      <td>3130519</td>\n",
       "      <td>2.0</td>\n",
       "      <td>1548018000</td>\n",
       "    </tr>\n",
       "    <tr>\n",
       "      <th>1</th>\n",
       "      <td>2000860</td>\n",
       "      <td>4.0</td>\n",
       "      <td>1548018000</td>\n",
       "    </tr>\n",
       "    <tr>\n",
       "      <th>2</th>\n",
       "      <td>1099444</td>\n",
       "      <td>2.0</td>\n",
       "      <td>1546808400</td>\n",
       "    </tr>\n",
       "    <tr>\n",
       "      <th>3</th>\n",
       "      <td>1343255</td>\n",
       "      <td>5.0</td>\n",
       "      <td>1547413200</td>\n",
       "    </tr>\n",
       "    <tr>\n",
       "      <th>4</th>\n",
       "      <td>1277040</td>\n",
       "      <td>2.0</td>\n",
       "      <td>1546808400</td>\n",
       "    </tr>\n",
       "  </tbody>\n",
       "</table>\n",
       "</div>"
      ],
      "text/plain": [
       "        id  vas_id    buy_time\n",
       "0  3130519     2.0  1548018000\n",
       "1  2000860     4.0  1548018000\n",
       "2  1099444     2.0  1546808400\n",
       "3  1343255     5.0  1547413200\n",
       "4  1277040     2.0  1546808400"
      ]
     },
     "execution_count": 3,
     "metadata": {},
     "output_type": "execute_result"
    }
   ],
   "source": [
    "test_df.head()"
   ]
  },
  {
   "cell_type": "code",
   "execution_count": 4,
   "metadata": {},
   "outputs": [
    {
     "data": {
      "text/html": [
       "<div>\n",
       "<style scoped>\n",
       "    .dataframe tbody tr th:only-of-type {\n",
       "        vertical-align: middle;\n",
       "    }\n",
       "\n",
       "    .dataframe tbody tr th {\n",
       "        vertical-align: top;\n",
       "    }\n",
       "\n",
       "    .dataframe thead th {\n",
       "        text-align: right;\n",
       "    }\n",
       "</style>\n",
       "<table border=\"1\" class=\"dataframe\">\n",
       "  <thead>\n",
       "    <tr style=\"text-align: right;\">\n",
       "      <th></th>\n",
       "      <th>id</th>\n",
       "      <th>vas_id</th>\n",
       "      <th>buy_time</th>\n",
       "      <th>target</th>\n",
       "    </tr>\n",
       "  </thead>\n",
       "  <tbody>\n",
       "    <tr>\n",
       "      <th>0</th>\n",
       "      <td>540968</td>\n",
       "      <td>8.0</td>\n",
       "      <td>1537131600</td>\n",
       "      <td>0.0</td>\n",
       "    </tr>\n",
       "    <tr>\n",
       "      <th>1</th>\n",
       "      <td>1454121</td>\n",
       "      <td>4.0</td>\n",
       "      <td>1531688400</td>\n",
       "      <td>0.0</td>\n",
       "    </tr>\n",
       "    <tr>\n",
       "      <th>2</th>\n",
       "      <td>2458816</td>\n",
       "      <td>1.0</td>\n",
       "      <td>1534107600</td>\n",
       "      <td>0.0</td>\n",
       "    </tr>\n",
       "    <tr>\n",
       "      <th>3</th>\n",
       "      <td>3535012</td>\n",
       "      <td>5.0</td>\n",
       "      <td>1535922000</td>\n",
       "      <td>0.0</td>\n",
       "    </tr>\n",
       "    <tr>\n",
       "      <th>4</th>\n",
       "      <td>1693214</td>\n",
       "      <td>1.0</td>\n",
       "      <td>1535922000</td>\n",
       "      <td>0.0</td>\n",
       "    </tr>\n",
       "  </tbody>\n",
       "</table>\n",
       "</div>"
      ],
      "text/plain": [
       "        id  vas_id    buy_time  target\n",
       "0   540968     8.0  1537131600     0.0\n",
       "1  1454121     4.0  1531688400     0.0\n",
       "2  2458816     1.0  1534107600     0.0\n",
       "3  3535012     5.0  1535922000     0.0\n",
       "4  1693214     1.0  1535922000     0.0"
      ]
     },
     "execution_count": 4,
     "metadata": {},
     "output_type": "execute_result"
    }
   ],
   "source": [
    "train_df.head()"
   ]
  },
  {
   "cell_type": "code",
   "execution_count": 5,
   "metadata": {},
   "outputs": [
    {
     "data": {
      "text/plain": [
       "(831653, 4)"
      ]
     },
     "execution_count": 5,
     "metadata": {},
     "output_type": "execute_result"
    }
   ],
   "source": [
    "train_df.shape"
   ]
  },
  {
   "cell_type": "code",
   "execution_count": 6,
   "metadata": {},
   "outputs": [],
   "source": [
    "# columns = np.arange(3,256)\n",
    "# small_dtype = {}\n",
    "# for item in columns:\n",
    "#     small_dtype[item] = np.float32\n",
    "# features_df = pd.read_csv(\"features.csv\",sep=\"\\t\", index_col=0, dtype=small_dtype)\n",
    "# features_df.head()"
   ]
  },
  {
   "cell_type": "code",
   "execution_count": 7,
   "metadata": {},
   "outputs": [],
   "source": [
    "# features_df[\"id\"] = features_df[\"id\"].astype(\"int8\")\n",
    "# features_df[\"buy_time\"] = features_df[\"buy_time\"].astype(\"int8\")\n",
    "# features_df.memory_usage(deep=True)"
   ]
  },
  {
   "cell_type": "code",
   "execution_count": 8,
   "metadata": {},
   "outputs": [],
   "source": [
    "# features_df.to_pickle(\"./features.pkl\")"
   ]
  },
  {
   "cell_type": "code",
   "execution_count": 9,
   "metadata": {},
   "outputs": [],
   "source": [
    "# features_df = pd.read_pickle(\"./features.pkl\")\n",
    "# features_df.memory_usage(deep=True)"
   ]
  },
  {
   "cell_type": "code",
   "execution_count": 10,
   "metadata": {},
   "outputs": [],
   "source": [
    "# train_and_test = list(set(train_df.id.to_list() + test_df.id.to_list()))\n",
    "# features_train_and_test = features_df.loc[features_df.id.isin(train_and_test),:]\n",
    "# features_train_and_test.to_pickle(\"./features_train_and_test.pkl\")"
   ]
  },
  {
   "cell_type": "code",
   "execution_count": 11,
   "metadata": {},
   "outputs": [],
   "source": [
    "features_train_and_test = pd.read_pickle(\"./features_train_and_test.pkl\")"
   ]
  },
  {
   "cell_type": "code",
   "execution_count": 12,
   "metadata": {},
   "outputs": [],
   "source": [
    "train_complete = train_df.merge(features_train_and_test, on=[\"id\", \"buy_time\"])"
   ]
  },
  {
   "cell_type": "code",
   "execution_count": 13,
   "metadata": {
    "scrolled": true
   },
   "outputs": [],
   "source": [
    "# corr_matrix = train_df.corr()\n",
    "# corr_matrix = np.round(corr_matrix,2)\n",
    "# corr_matrix[np.abs(corr_matrix) < 0.3] = 0"
   ]
  },
  {
   "cell_type": "code",
   "execution_count": 14,
   "metadata": {},
   "outputs": [],
   "source": [
    "# plt.figure(figsize=(15,10))\n",
    "# sns.set(font_scale=1.4)\n",
    "# sns.heatmap(corr_matrix, annot=True, linewidths=.5, cmap='coolwarm')\n",
    "\n",
    "# plt.title('Correlation matrix');"
   ]
  },
  {
   "cell_type": "code",
   "execution_count": 15,
   "metadata": {},
   "outputs": [],
   "source": [
    "X = train_complete.drop(\"target\", axis=1)\n",
    "y = train_complete[\"target\"]"
   ]
  },
  {
   "cell_type": "code",
   "execution_count": 16,
   "metadata": {
    "scrolled": true
   },
   "outputs": [],
   "source": [
    "# print(\"ID уникален? {}\".format(X.index.is_unique))\n",
    "# print(\"Сколько дубликатов? {}\".format(X.duplicated().sum()))\n",
    "# print(\"Каков процент пропусков? {} \".format((X.isnull().sum() > 0).sum()/X.shape[1]*100))"
   ]
  },
  {
   "cell_type": "code",
   "execution_count": 17,
   "metadata": {},
   "outputs": [
    {
     "data": {
      "image/png": "[encoded data removed]",
      "text/plain": [
       "<Figure size 432x288 with 1 Axes>"
      ]
     },
     "metadata": {
      "needs_background": "light"
     },
     "output_type": "display_data"
    }
   ],
   "source": [
    "import seaborn as sns\n",
    "ax = sns.countplot(y)\n",
    "ax.set_xlabel(\"Целевая переменная\")\n",
    "ax.set_ylabel(\"Количество\")\n",
    "ax.set_title(\"Распределение целевой переменной\");"
   ]
  },
  {
   "cell_type": "code",
   "execution_count": 18,
   "metadata": {},
   "outputs": [
    {
     "name": "stdout",
     "output_type": "stream",
     "text": [
      "Train\n",
      "0.0    0.932205\n",
      "1.0    0.067795\n",
      "Name: target, dtype: float64\n",
      "\n",
      "Test\n",
      "0.0    0.931948\n",
      "1.0    0.068052\n",
      "Name: target, dtype: float64\n"
     ]
    }
   ],
   "source": [
    "from sklearn.model_selection import train_test_split\n",
    "\n",
    "RANDOM_STATE = 42\n",
    "\n",
    "train_idx, test_idx = train_test_split(X.index, test_size=0.35, random_state=RANDOM_STATE)\n",
    "\n",
    "y_train, y_test = y.loc[train_idx], y.loc[test_idx]\n",
    "X_train, X_test = X.loc[train_idx], X.loc[test_idx]\n",
    "\n",
    "print(\"Train\")\n",
    "print(y.loc[train_idx].value_counts()/train_idx.shape[0])\n",
    "print()\n",
    "print(\"Test\")\n",
    "print(y.loc[test_idx].value_counts()/test_idx.shape[0])"
   ]
  },
  {
   "cell_type": "code",
   "execution_count": 19,
   "metadata": {},
   "outputs": [],
   "source": [
    "scaler = StandardScaler()"
   ]
  },
  {
   "cell_type": "code",
   "execution_count": 20,
   "metadata": {},
   "outputs": [],
   "source": [
    "X_train_scale = scaler.fit_transform(X_train)\n",
    "X_test_scale = scaler.transform(X_test)"
   ]
  },
  {
   "cell_type": "code",
   "execution_count": 21,
   "metadata": {},
   "outputs": [],
   "source": [
    "from sklearn.linear_model import LogisticRegression\n",
    "from sklearn.pipeline import Pipeline\n",
    "from sklearn.metrics import f1_score\n",
    "from sklearn.model_selection import cross_validate"
   ]
  },
  {
   "cell_type": "code",
   "execution_count": 22,
   "metadata": {},
   "outputs": [],
   "source": [
    "log_reg_step = (\"logistic_regression\", LogisticRegression(random_state=RANDOM_STATE, n_jobs=-1, class_weight=\"balanced\"))"
   ]
  },
  {
   "cell_type": "code",
   "execution_count": 23,
   "metadata": {
    "scrolled": true
   },
   "outputs": [],
   "source": [
    "base_estimator = Pipeline([log_reg_step])"
   ]
  },
  {
   "cell_type": "code",
   "execution_count": 24,
   "metadata": {},
   "outputs": [],
   "source": [
    "def run_cv(estimator, X, y, scoring='roc_auc', model_name=\"\"):\n",
    "    cv_res = cross_validate(estimator, X, y, scoring=scoring, n_jobs=-1)\n",
    "    print(\"{} {}={:.2f}(+/-{:.4f})\".format(model_name, scoring, cv_res['test_score'].mean(), cv_res['test_score'].std() *2))"
   ]
  },
  {
   "cell_type": "code",
   "execution_count": 25,
   "metadata": {
    "scrolled": true
   },
   "outputs": [
    {
     "name": "stdout",
     "output_type": "stream",
     "text": [
      "Baseline roc_auc=0.80(+/-0.0097)\n"
     ]
    }
   ],
   "source": [
    "run_cv(base_estimator, X_train_scale, y_train, model_name=\"Baseline\")"
   ]
  },
  {
   "cell_type": "code",
   "execution_count": 26,
   "metadata": {},
   "outputs": [
    {
     "data": {
      "text/plain": [
       "Pipeline(steps=[('logistic_regression',\n",
       "                 LogisticRegression(class_weight='balanced', n_jobs=-1,\n",
       "                                    random_state=42))])"
      ]
     },
     "execution_count": 26,
     "metadata": {},
     "output_type": "execute_result"
    }
   ],
   "source": [
    "base_estimator.fit(X_train_scale, y_train)"
   ]
  },
  {
   "cell_type": "code",
   "execution_count": 27,
   "metadata": {},
   "outputs": [],
   "source": [
    "base_preds = base_estimator.predict_proba(X_test_scale)[:,1]"
   ]
  },
  {
   "cell_type": "code",
   "execution_count": 28,
   "metadata": {},
   "outputs": [],
   "source": [
    "from sklearn.metrics import roc_curve, auc"
   ]
  },
  {
   "cell_type": "code",
   "execution_count": 29,
   "metadata": {},
   "outputs": [],
   "source": [
    "fpr, tpr, _ = roc_curve(y_test, base_preds)"
   ]
  },
  {
   "cell_type": "code",
   "execution_count": 30,
   "metadata": {},
   "outputs": [
    {
     "name": "stdout",
     "output_type": "stream",
     "text": [
      "Baseline: AUC_ROC = 0.809\n"
     ]
    },
    {
     "data": {
      "image/png": "[encoded data removed]",
      "text/plain": [
       "<Figure size 504x504 with 1 Axes>"
      ]
     },
     "metadata": {
      "needs_background": "light"
     },
     "output_type": "display_data"
    }
   ],
   "source": [
    "def plot_roc_curve(fpr, tpr, model_name=\"\", color=None):\n",
    "    plt.plot(fpr, tpr, label='%s: ROC curve (area = %0.2f)' %\n",
    "             (model_name, auc(fpr, tpr)), color=color)\n",
    "    plt.plot([0, 1], [0, 1], 'k--')\n",
    "    plt.axis([0.0, 1.0, 0.0, 1.05])\n",
    "    plt.xlabel('False Positive Rate')\n",
    "    plt.ylabel('True Positive Rate')\n",
    "    plt.title('%s: Predicting Service Subscription Rates' % model_name)\n",
    "    plt.legend(loc=\"lower right\")\n",
    "\n",
    "plt.figure(figsize=(7, 7))\n",
    "plot_roc_curve(fpr, tpr, \"Baseline\", color='r')\n",
    "print(\"Baseline: AUC_ROC = %.3f\" % auc(fpr, tpr))"
   ]
  },
  {
   "cell_type": "code",
   "execution_count": 31,
   "metadata": {},
   "outputs": [],
   "source": [
    "from sklearn.metrics import classification_report"
   ]
  },
  {
   "cell_type": "code",
   "execution_count": 32,
   "metadata": {},
   "outputs": [],
   "source": [
    "def train_model(model, X_train, y_train, X_valid, y_valid, feature_names):\n",
    "    \n",
    "    model.fit(X_train, y_train)\n",
    "    y_pred = model.predict(X_valid)\n",
    "    \n",
    "    print(\"F1 Score: {}\".format(np.round(f1_score(y_valid, y_pred, average='macro'),3)))\n",
    "    print(\"-------------------------------------------\")\n",
    "    print(classification_report(y_valid, y_pred > 0.5))\n",
    "    print(\"-------------------------------------------\")\n",
    "    print(pd.DataFrame(model.coef_, columns=feature_names, \\\n",
    "                       index=[\"weight\"]).T.sort_values(by=\"weight\", ascending=False).head(20))"
   ]
  },
  {
   "cell_type": "code",
   "execution_count": 33,
   "metadata": {},
   "outputs": [],
   "source": [
    "balanced_log_reg = LogisticRegression(random_state=RANDOM_STATE, n_jobs=-1, class_weight=\"balanced\")"
   ]
  },
  {
   "cell_type": "markdown",
   "metadata": {},
   "source": [
    "### Linear Regression with Balanced Class Weight"
   ]
  },
  {
   "cell_type": "code",
   "execution_count": 34,
   "metadata": {},
   "outputs": [
    {
     "name": "stdout",
     "output_type": "stream",
     "text": [
      "F1 Score: 0.564\n",
      "-------------------------------------------\n",
      "              precision    recall  f1-score   support\n",
      "\n",
      "         0.0       0.98      0.74      0.84     12695\n",
      "         1.0       0.18      0.78      0.29       927\n",
      "\n",
      "    accuracy                           0.74     13622\n",
      "   macro avg       0.58      0.76      0.56     13622\n",
      "weighted avg       0.92      0.74      0.80     13622\n",
      "\n",
      "-------------------------------------------\n",
      "          weight\n",
      "vas_id  1.252000\n",
      "88      0.625867\n",
      "167     0.607175\n",
      "10      0.449117\n",
      "137     0.421776\n",
      "138     0.370412\n",
      "84      0.340144\n",
      "31      0.317701\n",
      "122     0.267371\n",
      "101     0.255447\n",
      "230     0.227898\n",
      "12      0.227256\n",
      "6       0.201581\n",
      "45      0.199911\n",
      "169     0.196449\n",
      "199     0.195004\n",
      "176     0.184293\n",
      "83      0.176568\n",
      "173     0.168146\n",
      "18      0.140002\n"
     ]
    }
   ],
   "source": [
    "train_model(balanced_log_reg, X_train_scale, y_train, X_test_scale, y_test, X_train.columns)"
   ]
  },
  {
   "cell_type": "code",
   "execution_count": 35,
   "metadata": {},
   "outputs": [],
   "source": [
    "from sklearn.ensemble import RandomForestRegressor"
   ]
  },
  {
   "cell_type": "code",
   "execution_count": 36,
   "metadata": {},
   "outputs": [],
   "source": [
    "rand_for_class = RandomForestRegressor(random_state=RANDOM_STATE, max_depth=6, n_estimators=500)"
   ]
  },
  {
   "cell_type": "code",
   "execution_count": 37,
   "metadata": {},
   "outputs": [],
   "source": [
    "rand_for_step = ('rand_for', rand_for_class)"
   ]
  },
  {
   "cell_type": "code",
   "execution_count": 38,
   "metadata": {},
   "outputs": [],
   "source": [
    "ran_estimator = Pipeline([rand_for_step])"
   ]
  },
  {
   "cell_type": "code",
   "execution_count": 39,
   "metadata": {},
   "outputs": [
    {
     "data": {
      "text/plain": [
       "Pipeline(steps=[('rand_for',\n",
       "                 RandomForestRegressor(max_depth=6, n_estimators=500,\n",
       "                                       random_state=42))])"
      ]
     },
     "execution_count": 39,
     "metadata": {},
     "output_type": "execute_result"
    }
   ],
   "source": [
    "ran_estimator.fit(X_train_scale, y_train)"
   ]
  },
  {
   "cell_type": "code",
   "execution_count": 40,
   "metadata": {},
   "outputs": [],
   "source": [
    "ran_for_preds = ran_estimator.predict(X_test_scale)"
   ]
  },
  {
   "cell_type": "code",
   "execution_count": 41,
   "metadata": {},
   "outputs": [],
   "source": [
    "fpr, tpr, _ = roc_curve(y_test, ran_for_preds)"
   ]
  },
  {
   "cell_type": "code",
   "execution_count": 42,
   "metadata": {},
   "outputs": [
    {
     "name": "stdout",
     "output_type": "stream",
     "text": [
      "Random Forest Model: AUC_ROC = 0.931\n"
     ]
    },
    {
     "data": {
      "image/png": "[encoded data removed]",
      "text/plain": [
       "<Figure size 504x504 with 1 Axes>"
      ]
     },
     "metadata": {
      "needs_background": "light"
     },
     "output_type": "display_data"
    }
   ],
   "source": [
    "plt.figure(figsize=(7, 7))\n",
    "plot_roc_curve(fpr, tpr, \"Random Forest\", color='r')\n",
    "print(\"Random Forest Model: AUC_ROC = %.3f\" % auc(fpr, tpr))"
   ]
  },
  {
   "cell_type": "code",
   "execution_count": 43,
   "metadata": {},
   "outputs": [],
   "source": [
    "from sklearn.metrics import precision_recall_curve"
   ]
  },
  {
   "cell_type": "code",
   "execution_count": 44,
   "metadata": {},
   "outputs": [],
   "source": [
    "def train_model(model, X_train, y_train, X_valid, y_valid, feature_names):\n",
    "    \n",
    "    model.fit(X_train, y_train)\n",
    "    y_pred = model.predict(X_valid)\n",
    "    \n",
    "    precision, recall, thresholds = precision_recall_curve(y_valid, y_pred)\n",
    "    \n",
    "    fscore = (2 * precision * recall)/(precision + recall)\n",
    "    \n",
    "    ix = np.argmax(fscore)\n",
    "    \n",
    "    #print(f1_score(y_valid, y_pred, labels=[1,2], average=\"macro\"))\n",
    "    print(\"F1 Score: {}\".format(np.round(fscore[ix],3)))\n",
    "    print(\"-------------------------------------------\")\n",
    "    print(classification_report(y_valid, y_pred > 0.5))\n",
    "    print(\"-------------------------------------------\")\n",
    "    print(pd.DataFrame(model.feature_importances_, columns=[\"weight\"], \\\n",
    "                       index=[feature_names]).sort_values(by=\"weight\", ascending=False).head(10))"
   ]
  },
  {
   "cell_type": "code",
   "execution_count": 45,
   "metadata": {},
   "outputs": [
    {
     "name": "stdout",
     "output_type": "stream",
     "text": [
      "F1 Score: 0.544\n",
      "-------------------------------------------\n",
      "              precision    recall  f1-score   support\n",
      "\n",
      "         0.0       0.94      1.00      0.97     12695\n",
      "         1.0       0.67      0.06      0.11       927\n",
      "\n",
      "    accuracy                           0.93     13622\n",
      "   macro avg       0.81      0.53      0.54     13622\n",
      "weighted avg       0.92      0.93      0.91     13622\n",
      "\n",
      "-------------------------------------------\n",
      "            weight\n",
      "vas_id    0.698180\n",
      "buy_time  0.134342\n",
      "id        0.005900\n",
      "207       0.004853\n",
      "250       0.003229\n",
      "245       0.002917\n",
      "115       0.002755\n",
      "226       0.002686\n",
      "1         0.002474\n",
      "117       0.002348\n"
     ]
    }
   ],
   "source": [
    "train_model(rand_for_class, X_train_scale, y_train, X_test_scale, y_test, X_train.columns)"
   ]
  }
 ],
 "metadata": {
  "kernelspec": {
   "display_name": "Python 3",
   "language": "python",
   "name": "python3"
  },
  "language_info": {
   "codemirror_mode": {
    "name": "ipython",
    "version": 3
   },
   "file_extension": ".py",
   "mimetype": "text/x-python",
   "name": "python",
   "nbconvert_exporter": "python",
   "pygments_lexer": "ipython3",
   "version": "3.6.8"
  }
 },
 "nbformat": 4,
 "nbformat_minor": 2
}
